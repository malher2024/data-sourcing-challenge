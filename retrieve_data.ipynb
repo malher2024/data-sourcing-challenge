{
 "cells": [
  {
   "cell_type": "markdown",
   "metadata": {},
   "source": [
    "### Import Required Libraries and Set Up Environment Variables"
   ]
  },
  {
   "cell_type": "code",
   "execution_count": 18,
   "metadata": {},
   "outputs": [
    {
     "name": "stdout",
     "output_type": "stream",
     "text": [
      "sVwG0HP2zbvOvwII7sKPi6PMiRNmIt2gc1cmuNWJ\n"
     ]
    }
   ],
   "source": [
    "# Dependencies\n",
    "import requests\n",
    "import time\n",
    "from dotenv import load_dotenv\n",
    "import os\n",
    "import pandas as pd\n",
    "import json\n",
    "import os\n",
    "from datetime import datetime\n",
    "\n",
    "## Load the NASA_API_KEY from the env file\n",
    "load_dotenv()\n",
    "NASA_API_KEY = os.getenv('NASA_API_KEY')\n",
    "\n",
    "print(NASA_API_KEY)"
   ]
  },
  {
   "cell_type": "markdown",
   "metadata": {},
   "source": [
    "### CME Data"
   ]
  },
  {
   "cell_type": "code",
   "execution_count": 19,
   "metadata": {},
   "outputs": [
    {
     "name": "stdout",
     "output_type": "stream",
     "text": [
      "https://api.nasa.gov/DONKI/CME?startDate=2013-05-01&endDate=2024-05-01&api_key=sVwG0HP2zbvOvwII7sKPi6PMiRNmIt2gc1cmuNWJ\n"
     ]
    }
   ],
   "source": [
    "# Set the base URL to NASA's DONKI API:\n",
    "base_url = \"https://api.nasa.gov/DONKI/\"\n",
    "\n",
    "# Set the specifier for CMEs:\n",
    "CME = \"CME\"\n",
    "\n",
    "# Search for CMEs published between a begin and end date\n",
    "startDate = \"2013-05-01\"\n",
    "endDate   = \"2024-05-01\"\n",
    "\n",
    "# Build URL for CME\n",
    "cme_url = f\"{base_url}{CME}?startDate={startDate}&endDate={endDate}&api_key={NASA_API_KEY}\"\n",
    "\n",
    "# Display the generated URL for the CME search query\n",
    "print(cme_url)"
   ]
  },
  {
   "cell_type": "code",
   "execution_count": 20,
   "metadata": {},
   "outputs": [
    {
     "name": "stdout",
     "output_type": "stream",
     "text": [
      "CME data successfully retrieved and stored.\n"
     ]
    }
   ],
   "source": [
    "# Make a \"GET\" request for the CME URL and store it in a variable named cme_response\n",
    "cme_response = requests.get(cme_url, timeout=400)\n",
    "\n",
    "# Check if the request was successful\n",
    "if cme_response.status_code == 200:\n",
    "    cme_json = cme_response.json()  # Parse the JSON response\n",
    "    # print(json.dumps(cme_data[:5], indent=2))  # Pretty-print the response\n",
    "    print(\"CME data successfully retrieved and stored.\") \n",
    "else:\n",
    "    print(f\"Error: Unable to retrieve data, status code {cme_response.status_code}\")\n"
   ]
  },
  {
   "cell_type": "code",
   "execution_count": 21,
   "metadata": {
    "scrolled": true
   },
   "outputs": [
    {
     "name": "stdout",
     "output_type": "stream",
     "text": [
      "{\n",
      "    \"activityID\": \"2013-05-01T03:12:00-CME-001\",\n",
      "    \"catalog\": \"M2M_CATALOG\",\n",
      "    \"startTime\": \"2013-05-01T03:12Z\",\n",
      "    \"instruments\": [\n",
      "        {\n",
      "            \"displayName\": \"SOHO: LASCO/C2\"\n",
      "        },\n",
      "        {\n",
      "            \"displayName\": \"SOHO: LASCO/C3\"\n",
      "        },\n",
      "        {\n",
      "            \"displayName\": \"STEREO A: SECCHI/COR2\"\n",
      "        },\n",
      "        {\n",
      "            \"displayName\": \"STEREO B: SECCHI/COR2\"\n",
      "        }\n",
      "    ],\n",
      "    \"sourceLocation\": \"\",\n",
      "    \"activeRegionNum\": null,\n",
      "    \"note\": \"\",\n",
      "    \"submissionTime\": \"2013-08-07T16:54Z\",\n",
      "    \"versionId\": 1,\n",
      "    \"link\": \"https://webtools.ccmc.gsfc.nasa.gov/DONKI/view/CME/2349/-1\",\n",
      "    \"cmeAnalyses\": [\n",
      "        {\n",
      "            \"isMostAccurate\": true,\n",
      "            \"time21_5\": \"2013-05-01T07:07Z\",\n",
      "            \"latitude\": 12.0,\n",
      "            \"longitude\": -120.0,\n",
      "            \"halfAngle\": 36.0,\n",
      "            \"speed\": 860.0,\n",
      "            \"type\": \"C\",\n",
      "            \"featureCode\": \"null\",\n",
      "            \"imageType\": null,\n",
      "            \"measurementTechnique\": \"null\",\n",
      "            \"note\": \"\",\n",
      "            \"levelOfData\": 0,\n",
      "            \"tilt\": null,\n",
      "            \"minorHalfWidth\": null,\n",
      "            \"speedMeasuredAtHeight\": null,\n",
      "            \"submissionTime\": \"2013-08-07T16:54Z\",\n",
      "            \"link\": \"https://webtools.ccmc.gsfc.nasa.gov/DONKI/view/CMEAnalysis/2350/-1\",\n",
      "            \"enlilList\": [\n",
      "                {\n",
      "                    \"modelCompletionTime\": \"2013-05-01T08:32Z\",\n",
      "                    \"au\": 2.0,\n",
      "                    \"estimatedShockArrivalTime\": null,\n",
      "                    \"estimatedDuration\": null,\n",
      "                    \"rmin_re\": null,\n",
      "                    \"kp_18\": null,\n",
      "                    \"kp_90\": null,\n",
      "                    \"kp_135\": null,\n",
      "                    \"kp_180\": null,\n",
      "                    \"isEarthGB\": false,\n",
      "                    \"link\": \"https://webtools.ccmc.gsfc.nasa.gov/DONKI/view/WSA-ENLIL/2348/-1\",\n",
      "                    \"impactList\": [\n",
      "                        {\n",
      "                            \"isGlancingBlow\": false,\n",
      "                            \"location\": \"STEREO B\",\n",
      "                            \"arrivalTime\": \"2013-05-04T06:16Z\"\n",
      "                        }\n",
      "                    ],\n",
      "                    \"cmeIDs\": [\n",
      "                        \"2013-05-01T03:12:00-CME-001\"\n",
      "                    ]\n",
      "                }\n",
      "            ]\n",
      "        }\n",
      "    ],\n",
      "    \"linkedEvents\": [\n",
      "        {\n",
      "            \"activityID\": \"2013-05-04T04:52:00-IPS-001\"\n",
      "        }\n",
      "    ]\n",
      "}\n"
     ]
    }
   ],
   "source": [
    "# Preview the first result in JSON format\n",
    "# Use json.dumps with argument indent=4 to format data\n",
    "if cme_json:\n",
    "    print(json.dumps(cme_json[0], indent=4))\n",
    "else:\n",
    "    print(\"No data found\")"
   ]
  },
  {
   "cell_type": "code",
   "execution_count": 22,
   "metadata": {},
   "outputs": [
    {
     "name": "stdout",
     "output_type": "stream",
     "text": [
      "                    activityID          startTime  \\\n",
      "0  2013-05-01T03:12:00-CME-001  2013-05-01T03:12Z   \n",
      "1  2013-05-02T05:24:00-CME-001  2013-05-02T05:24Z   \n",
      "2  2013-05-02T14:36:00-CME-001  2013-05-02T14:36Z   \n",
      "3  2013-05-03T18:00:00-CME-001  2013-05-03T18:00Z   \n",
      "4  2013-05-03T22:36:00-CME-001  2013-05-03T22:36Z   \n",
      "\n",
      "                                      linkedEvents  \n",
      "0  [{'activityID': '2013-05-04T04:52:00-IPS-001'}]  \n",
      "1                                             None  \n",
      "2                                             None  \n",
      "3                                             None  \n",
      "4  [{'activityID': '2013-05-07T04:37:00-IPS-001'}]  \n"
     ]
    }
   ],
   "source": [
    "# Convert cme_json to a Pandas DataFrame \n",
    "df_cme = pd.DataFrame(cme_json)\n",
    "\n",
    "# Keep only the columns: activityID, startTime, linkedEvents\n",
    "df_cme_filtered = df_cme[['activityID', 'startTime', 'linkedEvents']]\n",
    "\n",
    "# Preview the first few rows of the filtered DataFrame\n",
    "print(df_cme_filtered.head())"
   ]
  },
  {
   "cell_type": "code",
   "execution_count": 23,
   "metadata": {},
   "outputs": [
    {
     "data": {
      "text/html": [
       "<div>\n",
       "<style scoped>\n",
       "    .dataframe tbody tr th:only-of-type {\n",
       "        vertical-align: middle;\n",
       "    }\n",
       "\n",
       "    .dataframe tbody tr th {\n",
       "        vertical-align: top;\n",
       "    }\n",
       "\n",
       "    .dataframe thead th {\n",
       "        text-align: right;\n",
       "    }\n",
       "</style>\n",
       "<table border=\"1\" class=\"dataframe\">\n",
       "  <thead>\n",
       "    <tr style=\"text-align: right;\">\n",
       "      <th></th>\n",
       "      <th>activityID</th>\n",
       "      <th>startTime</th>\n",
       "      <th>linkedEvents</th>\n",
       "    </tr>\n",
       "  </thead>\n",
       "  <tbody>\n",
       "    <tr>\n",
       "      <th>0</th>\n",
       "      <td>2013-05-01T03:12:00-CME-001</td>\n",
       "      <td>2013-05-01T03:12Z</td>\n",
       "      <td>[{'activityID': '2013-05-04T04:52:00-IPS-001'}]</td>\n",
       "    </tr>\n",
       "    <tr>\n",
       "      <th>4</th>\n",
       "      <td>2013-05-03T22:36:00-CME-001</td>\n",
       "      <td>2013-05-03T22:36Z</td>\n",
       "      <td>[{'activityID': '2013-05-07T04:37:00-IPS-001'}]</td>\n",
       "    </tr>\n",
       "    <tr>\n",
       "      <th>7</th>\n",
       "      <td>2013-05-09T19:29:00-CME-001</td>\n",
       "      <td>2013-05-09T19:29Z</td>\n",
       "      <td>[{'activityID': '2013-05-12T23:30:00-IPS-001'}]</td>\n",
       "    </tr>\n",
       "    <tr>\n",
       "      <th>10</th>\n",
       "      <td>2013-05-13T02:54:00-CME-001</td>\n",
       "      <td>2013-05-13T02:54Z</td>\n",
       "      <td>[{'activityID': '2013-05-13T01:53:00-FLR-001'}...</td>\n",
       "    </tr>\n",
       "    <tr>\n",
       "      <th>13</th>\n",
       "      <td>2013-05-13T16:18:00-CME-001</td>\n",
       "      <td>2013-05-13T16:18Z</td>\n",
       "      <td>[{'activityID': '2013-05-13T15:40:00-FLR-001'}...</td>\n",
       "    </tr>\n",
       "  </tbody>\n",
       "</table>\n",
       "</div>"
      ],
      "text/plain": [
       "                     activityID          startTime  \\\n",
       "0   2013-05-01T03:12:00-CME-001  2013-05-01T03:12Z   \n",
       "4   2013-05-03T22:36:00-CME-001  2013-05-03T22:36Z   \n",
       "7   2013-05-09T19:29:00-CME-001  2013-05-09T19:29Z   \n",
       "10  2013-05-13T02:54:00-CME-001  2013-05-13T02:54Z   \n",
       "13  2013-05-13T16:18:00-CME-001  2013-05-13T16:18Z   \n",
       "\n",
       "                                         linkedEvents  \n",
       "0     [{'activityID': '2013-05-04T04:52:00-IPS-001'}]  \n",
       "4     [{'activityID': '2013-05-07T04:37:00-IPS-001'}]  \n",
       "7     [{'activityID': '2013-05-12T23:30:00-IPS-001'}]  \n",
       "10  [{'activityID': '2013-05-13T01:53:00-FLR-001'}...  \n",
       "13  [{'activityID': '2013-05-13T15:40:00-FLR-001'}...  "
      ]
     },
     "metadata": {},
     "output_type": "display_data"
    }
   ],
   "source": [
    "# Notice that the linkedEvents column allows us to identify the corresponding GST\n",
    "# Remove rows with missing 'linkedEvents' since we won't be able to assign these to GSTs\n",
    "df_cme_filtered_cleaned = df_cme_filtered.dropna(subset=['linkedEvents'])\n",
    "\n",
    "#print(df_cme_filtered_cleaned.head())\n",
    "display(df_cme_filtered_cleaned.head())"
   ]
  },
  {
   "cell_type": "code",
   "execution_count": 24,
   "metadata": {},
   "outputs": [
    {
     "name": "stdout",
     "output_type": "stream",
     "text": [
      "                    activityID          startTime                      eventID\n",
      "0  2013-05-01T03:12:00-CME-001  2013-05-01T03:12Z  2013-05-04T04:52:00-IPS-001\n",
      "1  2013-05-03T22:36:00-CME-001  2013-05-03T22:36Z  2013-05-07T04:37:00-IPS-001\n",
      "2  2013-05-09T19:29:00-CME-001  2013-05-09T19:29Z  2013-05-12T23:30:00-IPS-001\n",
      "3  2013-05-13T02:54:00-CME-001  2013-05-13T02:54Z  2013-05-13T01:53:00-FLR-001\n",
      "4  2013-05-13T02:54:00-CME-001  2013-05-13T02:54Z  2013-05-13T04:12:00-SEP-001\n"
     ]
    }
   ],
   "source": [
    "# Notice that the linkedEvents sometimes contains multiple events per row\n",
    "# Write a nested for loop that iterates first over each row in the cme DataFrame (using the index)\n",
    "# and then iterates over the values in 'linkedEvents' \n",
    "# and adds the elements individually to a list of dictionaries where each row is one element \n",
    "\n",
    "# Initialize an empty list to store the expanded rows\n",
    "expanded_rows = []\n",
    "\n",
    "# Iterate over each index in the DataFrame\n",
    "for i in df_cme_filtered_cleaned.index:\n",
    "    # Get the corresponding value from row i in 'activityID'\n",
    "    activityID = df_cme_filtered_cleaned.at[i, 'activityID']\n",
    "    \n",
    "    # Get the corresponding value from row i in 'startTime'\n",
    "    startTime = df_cme_filtered_cleaned.at[i, 'startTime']\n",
    "    \n",
    "    # Get the list of dictionaries from row i in 'linkedEvents'\n",
    "    linkedEvents = df_cme_filtered_cleaned.at[i, 'linkedEvents']\n",
    "\n",
    "    # Iterate over each dictionary in the list\n",
    "    for item in linkedEvents:\n",
    "        # Append a new dictionary to the expanded_rows list for each dictionary item and corresponding 'activityID' and 'startTime' value\n",
    "        expanded_rows.append({\n",
    "            'activityID': activityID,\n",
    "            'startTime': startTime,\n",
    "            #'eventType': item['eventType'],  # Extract eventType from the dictionary\n",
    "            'eventID': item['activityID']    # Extract activityID (eventID) from the dictionary\n",
    "        })\n",
    "\n",
    "    \n",
    "        # Append a new dictionary to the expanded_rows list for each dictionary item and corresponding 'activityID' and 'startTime' value\n",
    "      \n",
    "# Create a new DataFrame from the expanded rows\n",
    "df_expanded = pd.DataFrame(expanded_rows)\n",
    "\n",
    "print(df_expanded.head())"
   ]
  },
  {
   "cell_type": "code",
   "execution_count": 25,
   "metadata": {},
   "outputs": [
    {
     "name": "stdout",
     "output_type": "stream",
     "text": [
      "2013-05-04T04:52:00-IPS-001\n"
     ]
    }
   ],
   "source": [
    "# Create a function called extract_activityID_from_dict that takes a dict as input such as in linkedEvents\n",
    "# and verify below that it works as expected using one row from linkedEvents as an example\n",
    "# Be sure to use a try and except block to handle errors\n",
    "\n",
    "        # Log the error or print it for debugging\n",
    "\n",
    "def extract_activityID_from_dict(input_dict):\n",
    "    try:\n",
    "        # Attempt to extract the 'activityID' from the dictionary\n",
    "        return input_dict['activityID']\n",
    "    except (KeyError, TypeError) as e:\n",
    "        # If 'activityID' is not found or input_dict is not a dictionary, return None\n",
    "        return None\n",
    "\n",
    "# Test the function on a specific row in the DataFrame\n",
    "result = extract_activityID_from_dict(df_cme_filtered_cleaned.loc[0, 'linkedEvents'][0])\n",
    "print(result)\n"
   ]
  },
  {
   "cell_type": "code",
   "execution_count": 26,
   "metadata": {},
   "outputs": [],
   "source": [
    "# Apply this function to each row in the 'linkedEvents' column (you can use apply() and a lambda function)\n",
    "# and create a new column called 'GST_ActivityID' using loc indexer:\n",
    "df_cme_filtered_cleaned = df_cme_filtered_cleaned.copy()\n",
    "\n",
    "\n",
    "df_cme_filtered_cleaned.loc[:, 'GST_ActivityID'] = df_cme_filtered_cleaned['linkedEvents'].apply(\n",
    "    lambda linked_events: extract_activityID_from_dict(linked_events[0]) if linked_events and isinstance(linked_events, list) else None\n",
    ")"
   ]
  },
  {
   "cell_type": "code",
   "execution_count": 27,
   "metadata": {},
   "outputs": [
    {
     "name": "stdout",
     "output_type": "stream",
     "text": [
      "                     activityID          startTime  \\\n",
      "0   2013-05-01T03:12:00-CME-001  2013-05-01T03:12Z   \n",
      "4   2013-05-03T22:36:00-CME-001  2013-05-03T22:36Z   \n",
      "7   2013-05-09T19:29:00-CME-001  2013-05-09T19:29Z   \n",
      "10  2013-05-13T02:54:00-CME-001  2013-05-13T02:54Z   \n",
      "13  2013-05-13T16:18:00-CME-001  2013-05-13T16:18Z   \n",
      "\n",
      "                                         linkedEvents  \\\n",
      "0     [{'activityID': '2013-05-04T04:52:00-IPS-001'}]   \n",
      "4     [{'activityID': '2013-05-07T04:37:00-IPS-001'}]   \n",
      "7     [{'activityID': '2013-05-12T23:30:00-IPS-001'}]   \n",
      "10  [{'activityID': '2013-05-13T01:53:00-FLR-001'}...   \n",
      "13  [{'activityID': '2013-05-13T15:40:00-FLR-001'}...   \n",
      "\n",
      "                 GST_ActivityID  \n",
      "0   2013-05-04T04:52:00-IPS-001  \n",
      "4   2013-05-07T04:37:00-IPS-001  \n",
      "7   2013-05-12T23:30:00-IPS-001  \n",
      "10  2013-05-13T01:53:00-FLR-001  \n",
      "13  2013-05-13T15:40:00-FLR-001  \n"
     ]
    }
   ],
   "source": [
    "# Remove rows with missing GST_ActivityID, since we can't assign them to GSTs:\n",
    "df_cme_filtered_cleaned = df_cme_filtered_cleaned.dropna(subset=['GST_ActivityID'])\n",
    "\n",
    "print(df_cme_filtered_cleaned.head())"
   ]
  },
  {
   "cell_type": "code",
   "execution_count": 28,
   "metadata": {},
   "outputs": [
    {
     "data": {
      "text/plain": [
       "activityID        object\n",
       "startTime         object\n",
       "linkedEvents      object\n",
       "GST_ActivityID    object\n",
       "dtype: object"
      ]
     },
     "metadata": {},
     "output_type": "display_data"
    }
   ],
   "source": [
    "# print out the datatype of each column in this DataFrame:\n",
    "display(df_cme_filtered_cleaned.dtypes)\n"
   ]
  },
  {
   "cell_type": "code",
   "execution_count": 29,
   "metadata": {},
   "outputs": [
    {
     "name": "stdout",
     "output_type": "stream",
     "text": [
      "Index(['cmeID', 'startTime_CME', 'linkedEvents', 'GST_ActivityID'], dtype='object')\n",
      "Index(['cmeID', 'startTime_CME', 'GST_ActivityID'], dtype='object')\n"
     ]
    }
   ],
   "source": [
    "# Convert the 'GST_ActivityID' column to string format \n",
    "df_cme_filtered_cleaned['GST_ActivityID'] = df_cme_filtered_cleaned['GST_ActivityID'].astype(str)\n",
    "\n",
    "df_cme_filtered_cleaned.dtypes\n",
    "# Convert startTime to datetime format  \n",
    "df_cme_filtered_cleaned['startTime'] = pd.to_datetime(df_cme_filtered_cleaned['startTime'], errors='coerce')\n",
    "\n",
    "# Rename startTime to startTime_CME and activityID to cmeID\n",
    "df_cme_filtered_cleaned.rename(columns={\n",
    "    'startTime': 'startTime_CME',\n",
    "    'activityID': 'cmeID'\n",
    "}, inplace=True)\n",
    "\n",
    "print(df_cme_filtered_cleaned.columns)\n",
    "# Drop linkedEvents\n",
    "df_cme_filtered_cleaned = df_cme_filtered_cleaned.drop(columns=['linkedEvents'])\n",
    "\n",
    "print(df_cme_filtered_cleaned.columns)\n",
    "# Verify that all steps were executed correctly\n"
   ]
  },
  {
   "cell_type": "code",
   "execution_count": 30,
   "metadata": {},
   "outputs": [
    {
     "name": "stdout",
     "output_type": "stream",
     "text": [
      "                            cmeID             startTime_CME  \\\n",
      "26    2013-06-02T20:24:00-CME-001 2013-06-02 20:24:00+00:00   \n",
      "1358  2015-09-04T14:12:00-CME-001 2015-09-04 14:12:00+00:00   \n",
      "1359  2015-09-04T19:24:00-CME-001 2015-09-04 19:24:00+00:00   \n",
      "1361  2015-09-06T23:30:00-CME-001 2015-09-06 23:30:00+00:00   \n",
      "1362  2015-09-07T10:36:00-CME-001 2015-09-07 10:36:00+00:00   \n",
      "\n",
      "                   GST_ActivityID  \n",
      "26    2013-06-07T03:00:00-GST-001  \n",
      "1358  2015-09-09T03:00:00-GST-001  \n",
      "1359  2015-09-09T03:00:00-GST-001  \n",
      "1361  2015-09-11T06:00:00-GST-001  \n",
      "1362  2015-09-11T06:00:00-GST-001  \n"
     ]
    }
   ],
   "source": [
    "# We are only interested in CMEs related to GSTs so keep only rows where the GST_ActivityID column contains 'GST'\n",
    "# use the method 'contains()' from the str library.  \n",
    "\n",
    "df_cme_filtered_cleaned = df_cme_filtered_cleaned[df_cme_filtered_cleaned['GST_ActivityID'].str.contains('GST', na=False)]\n",
    "\n",
    "print(df_cme_filtered_cleaned.head())\n"
   ]
  },
  {
   "cell_type": "markdown",
   "metadata": {},
   "source": [
    "### GST Data"
   ]
  },
  {
   "cell_type": "code",
   "execution_count": 32,
   "metadata": {},
   "outputs": [
    {
     "name": "stdout",
     "output_type": "stream",
     "text": [
      "https://api.nasa.gov/DONKI/GST?startDate=2013-05-01&endDate=2024-05-01&api_key=sVwG0HP2zbvOvwII7sKPi6PMiRNmIt2gc1cmuNWJ\n"
     ]
    }
   ],
   "source": [
    "# Set the base URL to NASA's DONKI API:\n",
    "base_url = \"https://api.nasa.gov/DONKI/\"\n",
    "\n",
    "# Set the specifier for Geomagnetic Storms (GST):\n",
    "GST = \"GST\"\n",
    "\n",
    "# Search for GSTs between a begin and end date\n",
    "startDate = \"2013-05-01\"\n",
    "endDate   = \"2024-05-01\"\n",
    "\n",
    "# Build URL for GST\n",
    "\n",
    "gst_url = f\"{base_url}{GST}?startDate={startDate}&endDate={endDate}&api_key={NASA_API_KEY}\"\n",
    "\n",
    "# Display the generated URL for the CME search query\n",
    "print(gst_url)"
   ]
  },
  {
   "cell_type": "code",
   "execution_count": 33,
   "metadata": {},
   "outputs": [
    {
     "name": "stdout",
     "output_type": "stream",
     "text": [
      "GST data successfully retrieved and stored.\n"
     ]
    }
   ],
   "source": [
    "# Make a \"GET\" request for the GST URL and store it in a variable named gst_response\n",
    "\n",
    "gst_response = requests.get(gst_url, timeout=400)\n",
    "\n",
    "# Check if the request was successful\n",
    "if gst_response.status_code == 200:\n",
    "    gst_json = gst_response.json()  # Parse the JSON response\n",
    "    # print(json.dumps(cme_data[:5], indent=2))  # Pretty-print the response\n",
    "    print(\"GST data successfully retrieved and stored.\") \n",
    "else:\n",
    "    print(f\"Error: Unable to retrieve data, status code {gst_response.status_code}\")"
   ]
  },
  {
   "cell_type": "code",
   "execution_count": 34,
   "metadata": {},
   "outputs": [
    {
     "name": "stdout",
     "output_type": "stream",
     "text": [
      "{\n",
      "    \"gstID\": \"2013-06-01T01:00:00-GST-001\",\n",
      "    \"startTime\": \"2013-06-01T01:00Z\",\n",
      "    \"allKpIndex\": [\n",
      "        {\n",
      "            \"observedTime\": \"2013-06-01T01:00Z\",\n",
      "            \"kpIndex\": 6.0,\n",
      "            \"source\": \"NOAA\"\n",
      "        }\n",
      "    ],\n",
      "    \"link\": \"https://webtools.ccmc.gsfc.nasa.gov/DONKI/view/GST/326/-1\",\n",
      "    \"linkedEvents\": [\n",
      "        {\n",
      "            \"activityID\": \"2013-05-31T15:45:00-HSS-001\"\n",
      "        }\n",
      "    ],\n",
      "    \"submissionTime\": \"2013-07-15T19:26Z\",\n",
      "    \"versionId\": 1\n",
      "}\n"
     ]
    }
   ],
   "source": [
    "# Convert the response variable to json and store it as a variable named gst_json\n",
    "\n",
    "# Preview the first result in JSON format\n",
    "# Use json.dumps with argument indent=4 to format data\n",
    "if gst_json:\n",
    "    print(json.dumps(gst_json[0], indent=4))\n",
    "else:\n",
    "    print(\"No data found\")"
   ]
  },
  {
   "cell_type": "code",
   "execution_count": 37,
   "metadata": {},
   "outputs": [
    {
     "data": {
      "text/html": [
       "<div>\n",
       "<style scoped>\n",
       "    .dataframe tbody tr th:only-of-type {\n",
       "        vertical-align: middle;\n",
       "    }\n",
       "\n",
       "    .dataframe tbody tr th {\n",
       "        vertical-align: top;\n",
       "    }\n",
       "\n",
       "    .dataframe thead th {\n",
       "        text-align: right;\n",
       "    }\n",
       "</style>\n",
       "<table border=\"1\" class=\"dataframe\">\n",
       "  <thead>\n",
       "    <tr style=\"text-align: right;\">\n",
       "      <th></th>\n",
       "      <th>gstID</th>\n",
       "      <th>startTime</th>\n",
       "      <th>linkedEvents</th>\n",
       "    </tr>\n",
       "  </thead>\n",
       "  <tbody>\n",
       "    <tr>\n",
       "      <th>0</th>\n",
       "      <td>2013-06-01T01:00:00-GST-001</td>\n",
       "      <td>2013-06-01T01:00Z</td>\n",
       "      <td>[{'activityID': '2013-05-31T15:45:00-HSS-001'}]</td>\n",
       "    </tr>\n",
       "    <tr>\n",
       "      <th>1</th>\n",
       "      <td>2013-06-07T03:00:00-GST-001</td>\n",
       "      <td>2013-06-07T03:00Z</td>\n",
       "      <td>[{'activityID': '2013-06-02T20:24:00-CME-001'}]</td>\n",
       "    </tr>\n",
       "    <tr>\n",
       "      <th>2</th>\n",
       "      <td>2013-06-29T03:00:00-GST-001</td>\n",
       "      <td>2013-06-29T03:00Z</td>\n",
       "      <td>None</td>\n",
       "    </tr>\n",
       "    <tr>\n",
       "      <th>3</th>\n",
       "      <td>2013-10-02T03:00:00-GST-001</td>\n",
       "      <td>2013-10-02T03:00Z</td>\n",
       "      <td>[{'activityID': '2013-09-29T22:40:00-CME-001'}...</td>\n",
       "    </tr>\n",
       "    <tr>\n",
       "      <th>4</th>\n",
       "      <td>2013-12-08T00:00:00-GST-001</td>\n",
       "      <td>2013-12-08T00:00Z</td>\n",
       "      <td>[{'activityID': '2013-12-04T23:12:00-CME-001'}...</td>\n",
       "    </tr>\n",
       "  </tbody>\n",
       "</table>\n",
       "</div>"
      ],
      "text/plain": [
       "                         gstID          startTime  \\\n",
       "0  2013-06-01T01:00:00-GST-001  2013-06-01T01:00Z   \n",
       "1  2013-06-07T03:00:00-GST-001  2013-06-07T03:00Z   \n",
       "2  2013-06-29T03:00:00-GST-001  2013-06-29T03:00Z   \n",
       "3  2013-10-02T03:00:00-GST-001  2013-10-02T03:00Z   \n",
       "4  2013-12-08T00:00:00-GST-001  2013-12-08T00:00Z   \n",
       "\n",
       "                                        linkedEvents  \n",
       "0    [{'activityID': '2013-05-31T15:45:00-HSS-001'}]  \n",
       "1    [{'activityID': '2013-06-02T20:24:00-CME-001'}]  \n",
       "2                                               None  \n",
       "3  [{'activityID': '2013-09-29T22:40:00-CME-001'}...  \n",
       "4  [{'activityID': '2013-12-04T23:12:00-CME-001'}...  "
      ]
     },
     "execution_count": 37,
     "metadata": {},
     "output_type": "execute_result"
    }
   ],
   "source": [
    "# Convert gst_json to a Pandas DataFrame  \n",
    "df_gst = pd.DataFrame(gst_json)\n",
    "\n",
    "# Keep only the columns: activityID, startTime, linkedEvents\n",
    "df_gst_filtered = df_gst[['gstID', 'startTime', 'linkedEvents']]\n",
    "\n",
    "# Preview the first few rows of the filtered DataFrame\n",
    "df_gst_filtered.head()\n",
    "\n"
   ]
  },
  {
   "cell_type": "code",
   "execution_count": 39,
   "metadata": {},
   "outputs": [
    {
     "data": {
      "text/html": [
       "<div>\n",
       "<style scoped>\n",
       "    .dataframe tbody tr th:only-of-type {\n",
       "        vertical-align: middle;\n",
       "    }\n",
       "\n",
       "    .dataframe tbody tr th {\n",
       "        vertical-align: top;\n",
       "    }\n",
       "\n",
       "    .dataframe thead th {\n",
       "        text-align: right;\n",
       "    }\n",
       "</style>\n",
       "<table border=\"1\" class=\"dataframe\">\n",
       "  <thead>\n",
       "    <tr style=\"text-align: right;\">\n",
       "      <th></th>\n",
       "      <th>gstID</th>\n",
       "      <th>startTime</th>\n",
       "      <th>linkedEvents</th>\n",
       "    </tr>\n",
       "  </thead>\n",
       "  <tbody>\n",
       "    <tr>\n",
       "      <th>0</th>\n",
       "      <td>2013-06-01T01:00:00-GST-001</td>\n",
       "      <td>2013-06-01T01:00Z</td>\n",
       "      <td>[{'activityID': '2013-05-31T15:45:00-HSS-001'}]</td>\n",
       "    </tr>\n",
       "    <tr>\n",
       "      <th>1</th>\n",
       "      <td>2013-06-07T03:00:00-GST-001</td>\n",
       "      <td>2013-06-07T03:00Z</td>\n",
       "      <td>[{'activityID': '2013-06-02T20:24:00-CME-001'}]</td>\n",
       "    </tr>\n",
       "    <tr>\n",
       "      <th>3</th>\n",
       "      <td>2013-10-02T03:00:00-GST-001</td>\n",
       "      <td>2013-10-02T03:00Z</td>\n",
       "      <td>[{'activityID': '2013-09-29T22:40:00-CME-001'}...</td>\n",
       "    </tr>\n",
       "    <tr>\n",
       "      <th>4</th>\n",
       "      <td>2013-12-08T00:00:00-GST-001</td>\n",
       "      <td>2013-12-08T00:00Z</td>\n",
       "      <td>[{'activityID': '2013-12-04T23:12:00-CME-001'}...</td>\n",
       "    </tr>\n",
       "    <tr>\n",
       "      <th>5</th>\n",
       "      <td>2014-02-19T03:00:00-GST-001</td>\n",
       "      <td>2014-02-19T03:00Z</td>\n",
       "      <td>[{'activityID': '2014-02-16T14:15:00-CME-001'}...</td>\n",
       "    </tr>\n",
       "    <tr>\n",
       "      <th>...</th>\n",
       "      <td>...</td>\n",
       "      <td>...</td>\n",
       "      <td>...</td>\n",
       "    </tr>\n",
       "    <tr>\n",
       "      <th>112</th>\n",
       "      <td>2023-12-18T06:00:00-GST-001</td>\n",
       "      <td>2023-12-18T06:00Z</td>\n",
       "      <td>[{'activityID': '2023-12-14T17:38:00-CME-001'}...</td>\n",
       "    </tr>\n",
       "    <tr>\n",
       "      <th>113</th>\n",
       "      <td>2024-03-03T18:00:00-GST-001</td>\n",
       "      <td>2024-03-03T18:00Z</td>\n",
       "      <td>[{'activityID': '2024-02-28T17:48:00-CME-001'}...</td>\n",
       "    </tr>\n",
       "    <tr>\n",
       "      <th>114</th>\n",
       "      <td>2024-03-23T21:00:00-GST-001</td>\n",
       "      <td>2024-03-23T21:00Z</td>\n",
       "      <td>[{'activityID': '2024-03-23T12:49:00-IPS-001'}...</td>\n",
       "    </tr>\n",
       "    <tr>\n",
       "      <th>115</th>\n",
       "      <td>2024-03-24T12:00:00-GST-001</td>\n",
       "      <td>2024-03-24T12:00Z</td>\n",
       "      <td>[{'activityID': '2024-03-23T01:25:00-CME-001'}...</td>\n",
       "    </tr>\n",
       "    <tr>\n",
       "      <th>116</th>\n",
       "      <td>2024-04-19T18:00:00-GST-001</td>\n",
       "      <td>2024-04-19T18:00Z</td>\n",
       "      <td>[{'activityID': '2024-04-15T06:48:00-CME-001'}...</td>\n",
       "    </tr>\n",
       "  </tbody>\n",
       "</table>\n",
       "<p>105 rows × 3 columns</p>\n",
       "</div>"
      ],
      "text/plain": [
       "                           gstID          startTime  \\\n",
       "0    2013-06-01T01:00:00-GST-001  2013-06-01T01:00Z   \n",
       "1    2013-06-07T03:00:00-GST-001  2013-06-07T03:00Z   \n",
       "3    2013-10-02T03:00:00-GST-001  2013-10-02T03:00Z   \n",
       "4    2013-12-08T00:00:00-GST-001  2013-12-08T00:00Z   \n",
       "5    2014-02-19T03:00:00-GST-001  2014-02-19T03:00Z   \n",
       "..                           ...                ...   \n",
       "112  2023-12-18T06:00:00-GST-001  2023-12-18T06:00Z   \n",
       "113  2024-03-03T18:00:00-GST-001  2024-03-03T18:00Z   \n",
       "114  2024-03-23T21:00:00-GST-001  2024-03-23T21:00Z   \n",
       "115  2024-03-24T12:00:00-GST-001  2024-03-24T12:00Z   \n",
       "116  2024-04-19T18:00:00-GST-001  2024-04-19T18:00Z   \n",
       "\n",
       "                                          linkedEvents  \n",
       "0      [{'activityID': '2013-05-31T15:45:00-HSS-001'}]  \n",
       "1      [{'activityID': '2013-06-02T20:24:00-CME-001'}]  \n",
       "3    [{'activityID': '2013-09-29T22:40:00-CME-001'}...  \n",
       "4    [{'activityID': '2013-12-04T23:12:00-CME-001'}...  \n",
       "5    [{'activityID': '2014-02-16T14:15:00-CME-001'}...  \n",
       "..                                                 ...  \n",
       "112  [{'activityID': '2023-12-14T17:38:00-CME-001'}...  \n",
       "113  [{'activityID': '2024-02-28T17:48:00-CME-001'}...  \n",
       "114  [{'activityID': '2024-03-23T12:49:00-IPS-001'}...  \n",
       "115  [{'activityID': '2024-03-23T01:25:00-CME-001'}...  \n",
       "116  [{'activityID': '2024-04-15T06:48:00-CME-001'}...  \n",
       "\n",
       "[105 rows x 3 columns]"
      ]
     },
     "execution_count": 39,
     "metadata": {},
     "output_type": "execute_result"
    }
   ],
   "source": [
    "# Notice that the linkedEvents column allows us to identify the corresponding CME\n",
    "# Remove rows with missing 'linkedEvents' since we won't be able to assign these to CME\n",
    "df_gst_filtered_cleaned = df_gst_filtered.dropna(subset=['linkedEvents'])\n",
    "\n",
    "df_gst_filtered_cleaned\n"
   ]
  },
  {
   "cell_type": "code",
   "execution_count": 40,
   "metadata": {},
   "outputs": [
    {
     "data": {
      "text/html": [
       "<div>\n",
       "<style scoped>\n",
       "    .dataframe tbody tr th:only-of-type {\n",
       "        vertical-align: middle;\n",
       "    }\n",
       "\n",
       "    .dataframe tbody tr th {\n",
       "        vertical-align: top;\n",
       "    }\n",
       "\n",
       "    .dataframe thead th {\n",
       "        text-align: right;\n",
       "    }\n",
       "</style>\n",
       "<table border=\"1\" class=\"dataframe\">\n",
       "  <thead>\n",
       "    <tr style=\"text-align: right;\">\n",
       "      <th></th>\n",
       "      <th>gstID</th>\n",
       "      <th>startTime</th>\n",
       "      <th>linkedEvents</th>\n",
       "    </tr>\n",
       "  </thead>\n",
       "  <tbody>\n",
       "    <tr>\n",
       "      <th>0</th>\n",
       "      <td>2013-06-01T01:00:00-GST-001</td>\n",
       "      <td>2013-06-01T01:00Z</td>\n",
       "      <td>{'activityID': '2013-05-31T15:45:00-HSS-001'}</td>\n",
       "    </tr>\n",
       "    <tr>\n",
       "      <th>1</th>\n",
       "      <td>2013-06-07T03:00:00-GST-001</td>\n",
       "      <td>2013-06-07T03:00Z</td>\n",
       "      <td>{'activityID': '2013-06-02T20:24:00-CME-001'}</td>\n",
       "    </tr>\n",
       "    <tr>\n",
       "      <th>2</th>\n",
       "      <td>2013-10-02T03:00:00-GST-001</td>\n",
       "      <td>2013-10-02T03:00Z</td>\n",
       "      <td>{'activityID': '2013-09-29T22:40:00-CME-001'}</td>\n",
       "    </tr>\n",
       "    <tr>\n",
       "      <th>3</th>\n",
       "      <td>2013-10-02T03:00:00-GST-001</td>\n",
       "      <td>2013-10-02T03:00Z</td>\n",
       "      <td>{'activityID': '2013-10-02T01:54:00-IPS-001'}</td>\n",
       "    </tr>\n",
       "    <tr>\n",
       "      <th>4</th>\n",
       "      <td>2013-10-02T03:00:00-GST-001</td>\n",
       "      <td>2013-10-02T03:00Z</td>\n",
       "      <td>{'activityID': '2013-10-02T02:47:00-MPC-001'}</td>\n",
       "    </tr>\n",
       "  </tbody>\n",
       "</table>\n",
       "</div>"
      ],
      "text/plain": [
       "                         gstID          startTime  \\\n",
       "0  2013-06-01T01:00:00-GST-001  2013-06-01T01:00Z   \n",
       "1  2013-06-07T03:00:00-GST-001  2013-06-07T03:00Z   \n",
       "2  2013-10-02T03:00:00-GST-001  2013-10-02T03:00Z   \n",
       "3  2013-10-02T03:00:00-GST-001  2013-10-02T03:00Z   \n",
       "4  2013-10-02T03:00:00-GST-001  2013-10-02T03:00Z   \n",
       "\n",
       "                                    linkedEvents  \n",
       "0  {'activityID': '2013-05-31T15:45:00-HSS-001'}  \n",
       "1  {'activityID': '2013-06-02T20:24:00-CME-001'}  \n",
       "2  {'activityID': '2013-09-29T22:40:00-CME-001'}  \n",
       "3  {'activityID': '2013-10-02T01:54:00-IPS-001'}  \n",
       "4  {'activityID': '2013-10-02T02:47:00-MPC-001'}  "
      ]
     },
     "execution_count": 40,
     "metadata": {},
     "output_type": "execute_result"
    }
   ],
   "source": [
    "# Notice that the linkedEvents sometimes contains multiple events per row\n",
    "# Use the explode method to ensure that each row is one element. Ensure to reset the index and drop missing values.\n",
    "df_gst_exploded = df_gst_filtered_cleaned.explode('linkedEvents')\n",
    "\n",
    "df_gst_exploded = df_gst_exploded.reset_index(drop=True).dropna(subset=['linkedEvents'])\n",
    "\n",
    "df_gst_exploded.head()\n"
   ]
  },
  {
   "cell_type": "code",
   "execution_count": 41,
   "metadata": {},
   "outputs": [
    {
     "data": {
      "text/html": [
       "<div>\n",
       "<style scoped>\n",
       "    .dataframe tbody tr th:only-of-type {\n",
       "        vertical-align: middle;\n",
       "    }\n",
       "\n",
       "    .dataframe tbody tr th {\n",
       "        vertical-align: top;\n",
       "    }\n",
       "\n",
       "    .dataframe thead th {\n",
       "        text-align: right;\n",
       "    }\n",
       "</style>\n",
       "<table border=\"1\" class=\"dataframe\">\n",
       "  <thead>\n",
       "    <tr style=\"text-align: right;\">\n",
       "      <th></th>\n",
       "      <th>gstID</th>\n",
       "      <th>startTime</th>\n",
       "      <th>linkedEvents</th>\n",
       "      <th>CME_ActivityID</th>\n",
       "    </tr>\n",
       "  </thead>\n",
       "  <tbody>\n",
       "    <tr>\n",
       "      <th>0</th>\n",
       "      <td>2013-06-01T01:00:00-GST-001</td>\n",
       "      <td>2013-06-01T01:00Z</td>\n",
       "      <td>{'activityID': '2013-05-31T15:45:00-HSS-001'}</td>\n",
       "      <td>2013-05-31T15:45:00-HSS-001</td>\n",
       "    </tr>\n",
       "    <tr>\n",
       "      <th>1</th>\n",
       "      <td>2013-06-07T03:00:00-GST-001</td>\n",
       "      <td>2013-06-07T03:00Z</td>\n",
       "      <td>{'activityID': '2013-06-02T20:24:00-CME-001'}</td>\n",
       "      <td>2013-06-02T20:24:00-CME-001</td>\n",
       "    </tr>\n",
       "    <tr>\n",
       "      <th>2</th>\n",
       "      <td>2013-10-02T03:00:00-GST-001</td>\n",
       "      <td>2013-10-02T03:00Z</td>\n",
       "      <td>{'activityID': '2013-09-29T22:40:00-CME-001'}</td>\n",
       "      <td>2013-09-29T22:40:00-CME-001</td>\n",
       "    </tr>\n",
       "    <tr>\n",
       "      <th>3</th>\n",
       "      <td>2013-10-02T03:00:00-GST-001</td>\n",
       "      <td>2013-10-02T03:00Z</td>\n",
       "      <td>{'activityID': '2013-10-02T01:54:00-IPS-001'}</td>\n",
       "      <td>2013-10-02T01:54:00-IPS-001</td>\n",
       "    </tr>\n",
       "    <tr>\n",
       "      <th>4</th>\n",
       "      <td>2013-10-02T03:00:00-GST-001</td>\n",
       "      <td>2013-10-02T03:00Z</td>\n",
       "      <td>{'activityID': '2013-10-02T02:47:00-MPC-001'}</td>\n",
       "      <td>2013-10-02T02:47:00-MPC-001</td>\n",
       "    </tr>\n",
       "  </tbody>\n",
       "</table>\n",
       "</div>"
      ],
      "text/plain": [
       "                         gstID          startTime  \\\n",
       "0  2013-06-01T01:00:00-GST-001  2013-06-01T01:00Z   \n",
       "1  2013-06-07T03:00:00-GST-001  2013-06-07T03:00Z   \n",
       "2  2013-10-02T03:00:00-GST-001  2013-10-02T03:00Z   \n",
       "3  2013-10-02T03:00:00-GST-001  2013-10-02T03:00Z   \n",
       "4  2013-10-02T03:00:00-GST-001  2013-10-02T03:00Z   \n",
       "\n",
       "                                    linkedEvents               CME_ActivityID  \n",
       "0  {'activityID': '2013-05-31T15:45:00-HSS-001'}  2013-05-31T15:45:00-HSS-001  \n",
       "1  {'activityID': '2013-06-02T20:24:00-CME-001'}  2013-06-02T20:24:00-CME-001  \n",
       "2  {'activityID': '2013-09-29T22:40:00-CME-001'}  2013-09-29T22:40:00-CME-001  \n",
       "3  {'activityID': '2013-10-02T01:54:00-IPS-001'}  2013-10-02T01:54:00-IPS-001  \n",
       "4  {'activityID': '2013-10-02T02:47:00-MPC-001'}  2013-10-02T02:47:00-MPC-001  "
      ]
     },
     "execution_count": 41,
     "metadata": {},
     "output_type": "execute_result"
    }
   ],
   "source": [
    "# Apply the extract_activityID_from_dict function to each row in the 'linkedEvents' column (you can use apply() and a lambda function)\n",
    "# and create a new column called 'CME_ActivityID' using loc indexer:\n",
    "\n",
    "# Remove rows with missing CME_ActivityID, since we can't assign them to CMEs:\n",
    "def extract_activityID_from_dict(linked_event):\n",
    "    try:\n",
    "        # Check if 'activityID' exists in the dictionary and return it\n",
    "        if 'activityID' in linked_event:\n",
    "            return linked_event['activityID']\n",
    "        else:\n",
    "            return None\n",
    "    except (ValueError, TypeError):\n",
    "        return None\n",
    "\n",
    "df_gst_exploded['CME_ActivityID'] = df_gst_exploded['linkedEvents'].apply(lambda x: extract_activityID_from_dict(x))\n",
    "\n",
    "df_gst_cleaned = df_gst_exploded.dropna(subset=['CME_ActivityID'])\n",
    "\n",
    "df_gst_cleaned.head()\n"
   ]
  },
  {
   "cell_type": "code",
   "execution_count": 42,
   "metadata": {},
   "outputs": [
    {
     "name": "stdout",
     "output_type": "stream",
     "text": [
      "<class 'pandas.core.frame.DataFrame'>\n",
      "RangeIndex: 205 entries, 0 to 204\n",
      "Data columns (total 3 columns):\n",
      " #   Column          Non-Null Count  Dtype              \n",
      "---  ------          --------------  -----              \n",
      " 0   gstID           205 non-null    object             \n",
      " 1   startTime_GST   205 non-null    datetime64[ns, UTC]\n",
      " 2   CME_ActivityID  205 non-null    object             \n",
      "dtypes: datetime64[ns, UTC](1), object(2)\n",
      "memory usage: 4.9+ KB\n"
     ]
    },
    {
     "data": {
      "text/html": [
       "<div>\n",
       "<style scoped>\n",
       "    .dataframe tbody tr th:only-of-type {\n",
       "        vertical-align: middle;\n",
       "    }\n",
       "\n",
       "    .dataframe tbody tr th {\n",
       "        vertical-align: top;\n",
       "    }\n",
       "\n",
       "    .dataframe thead th {\n",
       "        text-align: right;\n",
       "    }\n",
       "</style>\n",
       "<table border=\"1\" class=\"dataframe\">\n",
       "  <thead>\n",
       "    <tr style=\"text-align: right;\">\n",
       "      <th></th>\n",
       "      <th>gstID</th>\n",
       "      <th>startTime_GST</th>\n",
       "      <th>CME_ActivityID</th>\n",
       "    </tr>\n",
       "  </thead>\n",
       "  <tbody>\n",
       "    <tr>\n",
       "      <th>0</th>\n",
       "      <td>2013-06-01T01:00:00-GST-001</td>\n",
       "      <td>2013-06-01 01:00:00+00:00</td>\n",
       "      <td>2013-05-31T15:45:00-HSS-001</td>\n",
       "    </tr>\n",
       "    <tr>\n",
       "      <th>1</th>\n",
       "      <td>2013-06-07T03:00:00-GST-001</td>\n",
       "      <td>2013-06-07 03:00:00+00:00</td>\n",
       "      <td>2013-06-02T20:24:00-CME-001</td>\n",
       "    </tr>\n",
       "    <tr>\n",
       "      <th>2</th>\n",
       "      <td>2013-10-02T03:00:00-GST-001</td>\n",
       "      <td>2013-10-02 03:00:00+00:00</td>\n",
       "      <td>2013-09-29T22:40:00-CME-001</td>\n",
       "    </tr>\n",
       "    <tr>\n",
       "      <th>3</th>\n",
       "      <td>2013-10-02T03:00:00-GST-001</td>\n",
       "      <td>2013-10-02 03:00:00+00:00</td>\n",
       "      <td>2013-10-02T01:54:00-IPS-001</td>\n",
       "    </tr>\n",
       "    <tr>\n",
       "      <th>4</th>\n",
       "      <td>2013-10-02T03:00:00-GST-001</td>\n",
       "      <td>2013-10-02 03:00:00+00:00</td>\n",
       "      <td>2013-10-02T02:47:00-MPC-001</td>\n",
       "    </tr>\n",
       "  </tbody>\n",
       "</table>\n",
       "</div>"
      ],
      "text/plain": [
       "                         gstID             startTime_GST  \\\n",
       "0  2013-06-01T01:00:00-GST-001 2013-06-01 01:00:00+00:00   \n",
       "1  2013-06-07T03:00:00-GST-001 2013-06-07 03:00:00+00:00   \n",
       "2  2013-10-02T03:00:00-GST-001 2013-10-02 03:00:00+00:00   \n",
       "3  2013-10-02T03:00:00-GST-001 2013-10-02 03:00:00+00:00   \n",
       "4  2013-10-02T03:00:00-GST-001 2013-10-02 03:00:00+00:00   \n",
       "\n",
       "                CME_ActivityID  \n",
       "0  2013-05-31T15:45:00-HSS-001  \n",
       "1  2013-06-02T20:24:00-CME-001  \n",
       "2  2013-09-29T22:40:00-CME-001  \n",
       "3  2013-10-02T01:54:00-IPS-001  \n",
       "4  2013-10-02T02:47:00-MPC-001  "
      ]
     },
     "execution_count": 42,
     "metadata": {},
     "output_type": "execute_result"
    }
   ],
   "source": [
    "# Convert the 'CME_ActivityID' column to string format \n",
    "df_gst_cleaned['CME_ActivityID'] = df_gst_cleaned['CME_ActivityID'].astype(str)\n",
    "\n",
    "# Convert the 'gstID' column to string format \n",
    "df_gst_cleaned['gstID'] = df_gst_cleaned['gstID'].astype(str)\n",
    "\n",
    "# Convert startTime to datetime format  \n",
    "df_gst_cleaned['startTime'] = pd.to_datetime(df_gst_cleaned['startTime'], errors='coerce')\n",
    "\n",
    "# Rename startTime to startTime_GST \n",
    "df_gst_cleaned.rename(columns={'startTime': 'startTime_GST'}, inplace=True)\n",
    "\n",
    "# Drop linkedEvents\n",
    "df_gst_cleaned.drop(columns=['linkedEvents'], inplace=True)\n",
    "\n",
    "# Verify that all steps were executed correctly\n",
    "df_gst_cleaned.info()  # To check the data types\n",
    "df_gst_cleaned.head()  # To preview the cleaned DataFrame"
   ]
  },
  {
   "cell_type": "code",
   "execution_count": 43,
   "metadata": {},
   "outputs": [
    {
     "data": {
      "text/html": [
       "<div>\n",
       "<style scoped>\n",
       "    .dataframe tbody tr th:only-of-type {\n",
       "        vertical-align: middle;\n",
       "    }\n",
       "\n",
       "    .dataframe tbody tr th {\n",
       "        vertical-align: top;\n",
       "    }\n",
       "\n",
       "    .dataframe thead th {\n",
       "        text-align: right;\n",
       "    }\n",
       "</style>\n",
       "<table border=\"1\" class=\"dataframe\">\n",
       "  <thead>\n",
       "    <tr style=\"text-align: right;\">\n",
       "      <th></th>\n",
       "      <th>gstID</th>\n",
       "      <th>startTime_GST</th>\n",
       "      <th>CME_ActivityID</th>\n",
       "    </tr>\n",
       "  </thead>\n",
       "  <tbody>\n",
       "    <tr>\n",
       "      <th>1</th>\n",
       "      <td>2013-06-07T03:00:00-GST-001</td>\n",
       "      <td>2013-06-07 03:00:00+00:00</td>\n",
       "      <td>2013-06-02T20:24:00-CME-001</td>\n",
       "    </tr>\n",
       "    <tr>\n",
       "      <th>2</th>\n",
       "      <td>2013-10-02T03:00:00-GST-001</td>\n",
       "      <td>2013-10-02 03:00:00+00:00</td>\n",
       "      <td>2013-09-29T22:40:00-CME-001</td>\n",
       "    </tr>\n",
       "    <tr>\n",
       "      <th>5</th>\n",
       "      <td>2013-12-08T00:00:00-GST-001</td>\n",
       "      <td>2013-12-08 00:00:00+00:00</td>\n",
       "      <td>2013-12-04T23:12:00-CME-001</td>\n",
       "    </tr>\n",
       "    <tr>\n",
       "      <th>7</th>\n",
       "      <td>2014-02-19T03:00:00-GST-001</td>\n",
       "      <td>2014-02-19 03:00:00+00:00</td>\n",
       "      <td>2014-02-16T14:15:00-CME-001</td>\n",
       "    </tr>\n",
       "    <tr>\n",
       "      <th>9</th>\n",
       "      <td>2014-02-20T03:00:00-GST-001</td>\n",
       "      <td>2014-02-20 03:00:00+00:00</td>\n",
       "      <td>2014-02-18T01:25:00-CME-001</td>\n",
       "    </tr>\n",
       "  </tbody>\n",
       "</table>\n",
       "</div>"
      ],
      "text/plain": [
       "                         gstID             startTime_GST  \\\n",
       "1  2013-06-07T03:00:00-GST-001 2013-06-07 03:00:00+00:00   \n",
       "2  2013-10-02T03:00:00-GST-001 2013-10-02 03:00:00+00:00   \n",
       "5  2013-12-08T00:00:00-GST-001 2013-12-08 00:00:00+00:00   \n",
       "7  2014-02-19T03:00:00-GST-001 2014-02-19 03:00:00+00:00   \n",
       "9  2014-02-20T03:00:00-GST-001 2014-02-20 03:00:00+00:00   \n",
       "\n",
       "                CME_ActivityID  \n",
       "1  2013-06-02T20:24:00-CME-001  \n",
       "2  2013-09-29T22:40:00-CME-001  \n",
       "5  2013-12-04T23:12:00-CME-001  \n",
       "7  2014-02-16T14:15:00-CME-001  \n",
       "9  2014-02-18T01:25:00-CME-001  "
      ]
     },
     "execution_count": 43,
     "metadata": {},
     "output_type": "execute_result"
    }
   ],
   "source": [
    "# We are only interested in GSTs related to CMEs so keep only rows where the CME_ActivityID column contains 'CME'\n",
    "# use the method 'contains()' from the str library.  \n",
    "df_gst_related_to_cme = df_gst_cleaned[df_gst_cleaned['CME_ActivityID'].str.contains('CME', na=False)]\n",
    "\n",
    "df_gst_related_to_cme.head()"
   ]
  },
  {
   "cell_type": "markdown",
   "metadata": {},
   "source": [
    "### Merge both datatsets"
   ]
  },
  {
   "cell_type": "code",
   "execution_count": 45,
   "metadata": {},
   "outputs": [],
   "source": [
    "# Now merge both datasets using 'gstID' and 'CME_ActivityID' for gst and 'GST_ActivityID' and 'cmeID' for cme. Use the 'left_on' and 'right_on' specifiers.\n",
    "\n",
    "df_merged = pd.merge(\n",
    "    df_gst_related_to_cme,   # GST DataFrame\n",
    "    df_cme_filtered_cleaned, # CME DataFrame\n",
    "    left_on=['gstID', 'CME_ActivityID'],  # Columns from the GST DataFrame\n",
    "    right_on=['GST_ActivityID', 'cmeID'], # Columns from the CME DataFrame\n",
    "    how='left'              # Use left join to keep all GST records\n",
    ")\n",
    "\n"
   ]
  },
  {
   "cell_type": "code",
   "execution_count": 49,
   "metadata": {},
   "outputs": [
    {
     "name": "stdout",
     "output_type": "stream",
     "text": [
      "Number of rows in GST DataFrame: 61\n",
      "Number of rows in CME DataFrame: 6\n",
      "Number of rows in the merged DataFrame: 61\n",
      "The merged DataFrame has the correct number of rows.\n"
     ]
    }
   ],
   "source": [
    "# Verify that the new DataFrame has the same number of rows as cme and gst\n",
    "\n",
    "rows_gst = df_gst_related_to_cme.shape[0]\n",
    "print(f\"Number of rows in GST DataFrame: {rows_gst}\")\n",
    "\n",
    "rows_cme = df_cme_filtered_cleaned.shape[0]\n",
    "print(f\"Number of rows in CME DataFrame: {rows_cme}\")\n",
    "\n",
    "rows_merged = df_merged.shape[0]\n",
    "print(f\"Number of rows in the merged DataFrame: {rows_merged}\")\n",
    "\n",
    "if rows_merged == rows_gst or rows_merged == rows_cme:\n",
    "    print(\"The merged DataFrame has the correct number of rows.\")\n",
    "else:\n",
    "    print(\"The merged DataFrame does not have the same number of rows as GST or CME.\")"
   ]
  },
  {
   "cell_type": "markdown",
   "metadata": {},
   "source": [
    "### Computing the time it takes for a CME to cause a GST"
   ]
  },
  {
   "cell_type": "code",
   "execution_count": 50,
   "metadata": {},
   "outputs": [
    {
     "data": {
      "text/html": [
       "<div>\n",
       "<style scoped>\n",
       "    .dataframe tbody tr th:only-of-type {\n",
       "        vertical-align: middle;\n",
       "    }\n",
       "\n",
       "    .dataframe tbody tr th {\n",
       "        vertical-align: top;\n",
       "    }\n",
       "\n",
       "    .dataframe thead th {\n",
       "        text-align: right;\n",
       "    }\n",
       "</style>\n",
       "<table border=\"1\" class=\"dataframe\">\n",
       "  <thead>\n",
       "    <tr style=\"text-align: right;\">\n",
       "      <th></th>\n",
       "      <th>startTime_GST</th>\n",
       "      <th>startTime_CME</th>\n",
       "      <th>timeDiff</th>\n",
       "    </tr>\n",
       "  </thead>\n",
       "  <tbody>\n",
       "    <tr>\n",
       "      <th>0</th>\n",
       "      <td>2013-06-07 03:00:00+00:00</td>\n",
       "      <td>2013-06-02 20:24:00+00:00</td>\n",
       "      <td>4 days 06:36:00</td>\n",
       "    </tr>\n",
       "    <tr>\n",
       "      <th>1</th>\n",
       "      <td>2013-10-02 03:00:00+00:00</td>\n",
       "      <td>NaT</td>\n",
       "      <td>NaT</td>\n",
       "    </tr>\n",
       "    <tr>\n",
       "      <th>2</th>\n",
       "      <td>2013-12-08 00:00:00+00:00</td>\n",
       "      <td>NaT</td>\n",
       "      <td>NaT</td>\n",
       "    </tr>\n",
       "    <tr>\n",
       "      <th>3</th>\n",
       "      <td>2014-02-19 03:00:00+00:00</td>\n",
       "      <td>NaT</td>\n",
       "      <td>NaT</td>\n",
       "    </tr>\n",
       "    <tr>\n",
       "      <th>4</th>\n",
       "      <td>2014-02-20 03:00:00+00:00</td>\n",
       "      <td>NaT</td>\n",
       "      <td>NaT</td>\n",
       "    </tr>\n",
       "  </tbody>\n",
       "</table>\n",
       "</div>"
      ],
      "text/plain": [
       "              startTime_GST             startTime_CME        timeDiff\n",
       "0 2013-06-07 03:00:00+00:00 2013-06-02 20:24:00+00:00 4 days 06:36:00\n",
       "1 2013-10-02 03:00:00+00:00                       NaT             NaT\n",
       "2 2013-12-08 00:00:00+00:00                       NaT             NaT\n",
       "3 2014-02-19 03:00:00+00:00                       NaT             NaT\n",
       "4 2014-02-20 03:00:00+00:00                       NaT             NaT"
      ]
     },
     "execution_count": 50,
     "metadata": {},
     "output_type": "execute_result"
    }
   ],
   "source": [
    "# Compute the time diff between startTime_GST and startTime_CME by creating a new column called `timeDiff`.\n",
    "\n",
    "df_merged['timeDiff'] = df_merged['startTime_GST'] - df_merged['startTime_CME']\n",
    "\n",
    "df_merged[['startTime_GST', 'startTime_CME', 'timeDiff']].head()\n"
   ]
  },
  {
   "cell_type": "code",
   "execution_count": 53,
   "metadata": {},
   "outputs": [
    {
     "name": "stdout",
     "output_type": "stream",
     "text": [
      "Mean time difference: 3 days 18:31:00\n",
      "Median time difference: 4 days 06:33:00\n"
     ]
    }
   ],
   "source": [
    "# Use describe() to compute the mean and median time \n",
    "# that it takes for a CME to cause a GST. \n",
    "\n",
    "time_diff_stats = df_merged['timeDiff'].describe()\n",
    "\n",
    "mean_time_diff = time_diff_stats['mean']\n",
    "median_time_diff = df_merged['timeDiff'].median()\n",
    "\n",
    "print(f\"Mean time difference: {mean_time_diff}\")\n",
    "print(f\"Median time difference: {median_time_diff}\")"
   ]
  },
  {
   "cell_type": "markdown",
   "metadata": {},
   "source": [
    "### Exporting data in csv format"
   ]
  },
  {
   "cell_type": "code",
   "execution_count": 54,
   "metadata": {},
   "outputs": [],
   "source": [
    "# Export data to CSV without the index\n",
    "df_merged.to_csv('merged_data.csv', index=False)\n"
   ]
  },
  {
   "cell_type": "code",
   "execution_count": null,
   "metadata": {},
   "outputs": [],
   "source": [
    "# completed"
   ]
  }
 ],
 "metadata": {
  "kernelspec": {
   "display_name": "Python 3 (ipykernel)",
   "language": "python",
   "name": "python3"
  },
  "language_info": {
   "codemirror_mode": {
    "name": "ipython",
    "version": 3
   },
   "file_extension": ".py",
   "mimetype": "text/x-python",
   "name": "python",
   "nbconvert_exporter": "python",
   "pygments_lexer": "ipython3",
   "version": "3.11.7"
  },
  "varInspector": {
   "cols": {
    "lenName": 16,
    "lenType": 16,
    "lenVar": 40
   },
   "kernels_config": {
    "python": {
     "delete_cmd_postfix": "",
     "delete_cmd_prefix": "del ",
     "library": "var_list.py",
     "varRefreshCmd": "print(var_dic_list())"
    },
    "r": {
     "delete_cmd_postfix": ") ",
     "delete_cmd_prefix": "rm(",
     "library": "var_list.r",
     "varRefreshCmd": "cat(var_dic_list()) "
    }
   },
   "types_to_exclude": [
    "module",
    "function",
    "builtin_function_or_method",
    "instance",
    "_Feature"
   ],
   "window_display": false
  }
 },
 "nbformat": 4,
 "nbformat_minor": 4
}
